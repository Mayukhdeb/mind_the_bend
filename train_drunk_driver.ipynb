{
  "nbformat": 4,
  "nbformat_minor": 0,
  "metadata": {
    "kernelspec": {
      "name": "python3",
      "display_name": "Python 3"
    },
    "language_info": {
      "codemirror_mode": {
        "name": "ipython",
        "version": 3
      },
      "file_extension": ".py",
      "mimetype": "text/x-python",
      "name": "python",
      "nbconvert_exporter": "python",
      "pygments_lexer": "ipython3",
      "version": "3.7.3"
    },
    "colab": {
      "name": "drunk_driver.ipynb",
      "provenance": [],
      "collapsed_sections": []
    },
    "accelerator": "GPU"
  },
  "cells": [
    {
      "cell_type": "code",
      "metadata": {
        "id": "ET1xuxVWpHQK",
        "colab_type": "code",
        "outputId": "fe17bdbd-ce95-4c5f-e8a7-0ea60abdb551",
        "colab": {
          "base_uri": "https://localhost:8080/",
          "height": 128
        }
      },
      "source": [
        "from google.colab import drive\n",
        "drive.mount('/content/drive')"
      ],
      "execution_count": 1,
      "outputs": [
        {
          "output_type": "stream",
          "text": [
            "Go to this URL in a browser: https://accounts.google.com/o/oauth2/auth?client_id=947318989803-6bn6qk8qdgf4n4g3pfee6491hc0brc4i.apps.googleusercontent.com&redirect_uri=urn%3aietf%3awg%3aoauth%3a2.0%3aoob&response_type=code&scope=email%20https%3a%2f%2fwww.googleapis.com%2fauth%2fdocs.test%20https%3a%2f%2fwww.googleapis.com%2fauth%2fdrive%20https%3a%2f%2fwww.googleapis.com%2fauth%2fdrive.photos.readonly%20https%3a%2f%2fwww.googleapis.com%2fauth%2fpeopleapi.readonly\n",
            "\n",
            "Enter your authorization code:\n",
            "··········\n",
            "Mounted at /content/drive\n"
          ],
          "name": "stdout"
        }
      ]
    },
    {
      "cell_type": "code",
      "metadata": {
        "id": "_yXmn1Ozoqqi",
        "colab_type": "code",
        "colab": {}
      },
      "source": [
        "import torch\n",
        "import torchvision\n",
        "import torch.nn as nn                                                \n",
        "import torch.nn.functional as F\n",
        "import torch.optim as optim\n",
        "torch.set_printoptions(linewidth = 120)\n",
        "torch.set_grad_enabled(True)\n",
        "import torchvision\n",
        "import torchvision.transforms as transforms\n",
        "from torch.utils.data import Dataset, TensorDataset\n",
        "from torch.utils.data import DataLoader\n",
        "from torch.utils.data.dataset import random_split\n",
        "import matplotlib.pyplot as plt\n",
        "import numpy as np\n",
        "from PIL import Image \n",
        "from IPython.display import clear_output\n",
        "from torchvision.transforms import ToTensor\n",
        "from numpy import random \n",
        "from scipy.ndimage.filters import gaussian_filter1d   ## smoother\n",
        "from torch.optim.lr_scheduler import StepLR"
      ],
      "execution_count": 0,
      "outputs": []
    },
    {
      "cell_type": "code",
      "metadata": {
        "scrolled": true,
        "id": "eiinN9tVoqqo",
        "colab_type": "code",
        "outputId": "b8c6a3a8-45a5-48be-c760-fd24ef879947",
        "colab": {
          "base_uri": "https://localhost:8080/",
          "height": 181
        }
      },
      "source": [
        "\n",
        "\n",
        "class Net(nn.Module):\n",
        "    def __init__(self):\n",
        "        super(Net, self).__init__()\n",
        "        self.conv1 = nn.Conv2d(3, 7, 5)\n",
        "        self.pool = nn.MaxPool2d(3, 3)\n",
        "        \n",
        "        self.dropout = nn.Dropout(p=0.5)\n",
        "        self.conv2 = nn.Conv2d(7, 10, 5)\n",
        "        \n",
        "        \n",
        "        self.fc1 = nn.Linear(280, 90)\n",
        "        self.fc2 = nn.Linear(90, 30)\n",
        "        self.fc3 = nn.Linear(30, 1)\n",
        "\n",
        "    def forward(self, x):\n",
        "        x = self.dropout(self.pool(F.relu(self.conv1(x))))\n",
        "        x = self.pool(F.relu(self.conv2(x)))\n",
        "        x = x.view(x.size(0), -1)\n",
        "        x = F.relu(self.fc1(x))\n",
        "        x = F.relu(self.fc2(x))\n",
        "        x = self.fc3(x)\n",
        "        return x\n",
        "\n",
        "drunk_driver = Net()\n",
        "print(drunk_driver)\n",
        "net = drunk_driver"
      ],
      "execution_count": 15,
      "outputs": [
        {
          "output_type": "stream",
          "text": [
            "Net(\n",
            "  (conv1): Conv2d(3, 7, kernel_size=(5, 5), stride=(1, 1))\n",
            "  (pool): MaxPool2d(kernel_size=3, stride=3, padding=0, dilation=1, ceil_mode=False)\n",
            "  (dropout): Dropout(p=0.5, inplace=False)\n",
            "  (conv2): Conv2d(7, 10, kernel_size=(5, 5), stride=(1, 1))\n",
            "  (fc1): Linear(in_features=280, out_features=90, bias=True)\n",
            "  (fc2): Linear(in_features=90, out_features=30, bias=True)\n",
            "  (fc3): Linear(in_features=30, out_features=1, bias=True)\n",
            ")\n"
          ],
          "name": "stdout"
        }
      ]
    },
    {
      "cell_type": "code",
      "metadata": {
        "id": "DOjX6UXGoqqt",
        "colab_type": "code",
        "outputId": "0de92303-171c-4a43-d9f1-391b284083fa",
        "colab": {
          "base_uri": "https://localhost:8080/",
          "height": 285
        }
      },
      "source": [
        "\n",
        "arr =  np.array(np.load(\"/content/drive/My Drive/kaggle/mind_the_bend/numpy/new_mirrored.npy\",allow_pickle = True))\n",
        "print(arr.shape[0], \"  frames \")\n",
        "\n",
        "def find_no_occ(arr, element):\n",
        "    co = 0 \n",
        "    for i in range(len(arr)):\n",
        "        if arr[i][1] == element:\n",
        "            co += 1\n",
        "    return(co)\n",
        "\n",
        "def check_for_balance(arr):\n",
        "    dist = []\n",
        "    for m in range(len(arr)):\n",
        "        if arr[m][1] != arr[m-1][1]:\n",
        "            no_occ = find_no_occ(arr, arr[m][1])\n",
        "            dist.append(no_occ)\n",
        "    return dist\n",
        "\n",
        "dist = check_for_balance(arr)\n",
        "plt.plot(dist)\n",
        "plt.show()"
      ],
      "execution_count": 5,
      "outputs": [
        {
          "output_type": "stream",
          "text": [
            "20646   frames \n"
          ],
          "name": "stdout"
        },
        {
          "output_type": "display_data",
          "data": {
            "image/png": "[encoded data removed]",
            "text/plain": [
              "<Figure size 432x288 with 1 Axes>"
            ]
          },
          "metadata": {
            "tags": []
          }
        }
      ]
    },
    {
      "cell_type": "code",
      "metadata": {
        "id": "M_y7GVORoqqw",
        "colab_type": "code",
        "colab": {}
      },
      "source": [
        "\n",
        "def extract_column(arr, index):\n",
        "  \n",
        "    x_train = []\n",
        "    for m in range (len(arr)):\n",
        "        x_train.append(arr[m][index])\n",
        "    return( np.array(x_train))\n",
        "    \n",
        "x_train = extract_column(arr,0)\n",
        "y_train = extract_column(arr,1)\n",
        "\n",
        "def vis_loss_multi(loss_arr,val_arr):\n",
        "    \n",
        "    ysmoothed = gaussian_filter1d(loss_arr, sigma=7)\n",
        "    plt.plot( ysmoothed, label = \"training loss\")\n",
        "    ysmoothed2 = gaussian_filter1d(val_arr, sigma=18)\n",
        "    plt.plot(ysmoothed2, label = \"validation loss\")\n",
        "    plt.show()\n",
        "    \n",
        "\n",
        "def vis_loss_multi_colors(loss_arr,val_arr):\n",
        "    \n",
        "    ysmoothed = gaussian_filter1d(loss_arr, sigma=3)\n",
        "    plt.plot( ysmoothed, \"c\", label = \"training\")\n",
        "    \n",
        "    ysmoothed2 = gaussian_filter1d(val_arr, sigma=7)\n",
        "    plt.plot(ysmoothed2, \"g\", label = \"validation\")\n",
        "\n",
        "    plt.show()\n",
        "    \n",
        "\n",
        "def save_nn(filename):\n",
        "\n",
        "    torch.save(drunk_driver, filename)\n",
        "    print (\" saved -- \", filename )      \n"
      ],
      "execution_count": 0,
      "outputs": []
    },
    {
      "cell_type": "code",
      "metadata": {
        "scrolled": true,
        "id": "d5X340WIoqqz",
        "colab_type": "code",
        "outputId": "cb196d4f-2a30-474a-c793-eab5cfd6d86b",
        "colab": {
          "base_uri": "https://localhost:8080/",
          "height": 54
        }
      },
      "source": [
        "x_train_tensor = torch.from_numpy(x_train).float()\n",
        "y_train_tensor = torch.from_numpy(y_train).float()\n",
        "\n",
        "full_dataset = TensorDataset(x_train_tensor, y_train_tensor)       ## make compatible with DataLoader \n",
        "\n",
        "\n",
        "train_size = int(0.9 * len(full_dataset))  ## 80/20 split\n",
        "test_size = len(full_dataset) - train_size\n",
        "train_dataset, test_dataset = random_split(full_dataset, [train_size, test_size])\n",
        "\n",
        "train_loader = DataLoader(dataset=train_dataset, batch_size=200, shuffle=True)\n",
        "\n",
        "val_loader = DataLoader(dataset=test_dataset, batch_size=20, shuffle = True)\n",
        "\n",
        "print(len(train_loader))\n",
        "print(len(val_loader))"
      ],
      "execution_count": 21,
      "outputs": [
        {
          "output_type": "stream",
          "text": [
            "93\n",
            "104\n"
          ],
          "name": "stdout"
        }
      ]
    },
    {
      "cell_type": "code",
      "metadata": {
        "id": "E1CCtvQOoqq2",
        "colab_type": "code",
        "colab": {}
      },
      "source": [
        "losses = []\n",
        "val_losses = []\n",
        "avg_losses = []\n",
        "avg_val_losses = []\n"
      ],
      "execution_count": 0,
      "outputs": []
    },
    {
      "cell_type": "code",
      "metadata": {
        "id": "eRFYd5WXoqq5",
        "colab_type": "code",
        "colab": {}
      },
      "source": [
        "learning_rate = 0.001"
      ],
      "execution_count": 0,
      "outputs": []
    },
    {
      "cell_type": "code",
      "metadata": {
        "id": "3YhXO0fioqq8",
        "colab_type": "code",
        "colab": {}
      },
      "source": [
        "def make_train_step(model, optimizer):\n",
        "\n",
        "    def train_step(x, y):\n",
        "        optimizer.zero_grad()\n",
        "        pred = model(x)\n",
        "        y = y.unsqueeze(1)\n",
        "        y = y.float()\n",
        "        loss = F.mse_loss(pred, y)\n",
        "        loss.backward()\n",
        "        optimizer.step()\n",
        "        \n",
        "        print (\"|\", end = \"\")\n",
        "        return loss.item()\n",
        "      \n",
        "    return train_step\n",
        "\n",
        "model = drunk_driver\n",
        "\n",
        "def train_drunk_driver(train_loader, epochs, initial_lr):\n",
        "    learning_rate = initial_lr\n",
        "    \n",
        "    optimizer = optim.Adam(drunk_driver.parameters(), learning_rate) \n",
        "    train_step = make_train_step(model, optimizer)\n",
        "    scheduler = StepLR(optimizer, step_size=1, gamma=0.969)  # lr decreases by 10% aftr every epoch\n",
        "    train_valve = False\n",
        "    for i in range(epochs):\n",
        "        foo = optimizer.param_groups[0]['lr']\n",
        "        print(\"training batches  --\", end = \"\")\n",
        "        for x_batch, y_batch in train_loader:\n",
        "\n",
        "            model.train()\n",
        "            loss = train_step(x_batch, y_batch)\n",
        "\n",
        "            losses.append(loss)  ## metrics \n",
        "\n",
        "        with torch.no_grad():\n",
        "            print (\"\")\n",
        "            print (\"running on validation set .\", end = \"\" )\n",
        "            for x_val, y_val in val_loader:\n",
        "                y_val =  y_val.unsqueeze(1)\n",
        "                y_val =  y_val.float()\n",
        "                model.eval()\n",
        "                yhat = model(x_val)  # pred \n",
        "                val_loss = F.mse_loss(yhat, y_val)\n",
        "\n",
        "                val_losses.append(val_loss.item())  ## metrics \n",
        "                print (\".\", end = \"\")\n",
        "        print (\"\")\n",
        "        scheduler.step()   ## lr decay caller \n",
        "        clear_output()\n",
        "\n",
        "        epoch_avg_loss = sum(losses[-104:])/104\n",
        "\n",
        "        val_av_loss = sum(val_losses[-93:])/93\n",
        "        \n",
        "        avg_losses.append(epoch_avg_loss)\n",
        "        avg_val_losses.append(val_av_loss)\n",
        "\n",
        "        vis_loss_multi(losses, val_losses)\n",
        "\n",
        "        print(\"recent state in the last 500 batches -- \")\n",
        "        vis_loss_multi_colors(losses[-500:], val_losses[-500:])\n",
        "\n",
        "        print (\"epoch - \", i+1, \"  current lr = \", foo,  \" epoch_avg_loss = \", epoch_avg_loss, \"  validation_average_loss = \", val_av_loss)\n"
      ],
      "execution_count": 0,
      "outputs": []
    },
    {
      "cell_type": "code",
      "metadata": {
        "scrolled": false,
        "id": "tCeaykkWoqrB",
        "colab_type": "code",
        "outputId": "6d91ccee-b1fe-47e2-ddf4-a694e48cbc76",
        "colab": {
          "base_uri": "https://localhost:8080/",
          "height": 549
        }
      },
      "source": [
        "train_drunk_driver(train_loader, 10, initial_lr = 0.001) \n",
        "## need more training data "
      ],
      "execution_count": 18,
      "outputs": [
        {
          "output_type": "display_data",
          "data": {
            "image/png": "[encoded data removed]",
            "text/plain": [
              "<Figure size 432x288 with 1 Axes>"
            ]
          },
          "metadata": {
            "tags": []
          }
        },
        {
          "output_type": "stream",
          "text": [
            "recent state in the last 500 batches -- \n"
          ],
          "name": "stdout"
        },
        {
          "output_type": "display_data",
          "data": {
            "image/png": "[encoded data removed]",
            "text/plain": [
              "<Figure size 432x288 with 1 Axes>"
            ]
          },
          "metadata": {
            "tags": []
          }
        },
        {
          "output_type": "stream",
          "text": [
            "epoch -  10   current lr =  0.0007532063859404785  epoch_avg_loss =  205.96634321946365   validation_average_loss =  216.14069177771128\n"
          ],
          "name": "stdout"
        }
      ]
    },
    {
      "cell_type": "code",
      "metadata": {
        "id": "sljkKtkSoqrF",
        "colab_type": "code",
        "outputId": "8e866889-bb96-494f-9597-8d36d0eec530",
        "colab": {
          "base_uri": "https://localhost:8080/",
          "height": 237
        }
      },
      "source": [
        "save_nn(\"/content/drive/My Drive/kaggle/mind_the_bend/torch/alpha.pth\")"
      ],
      "execution_count": 19,
      "outputs": [
        {
          "output_type": "stream",
          "text": [
            " saved --  /content/drive/My Drive/kaggle/mind_the_bend/torch/alpha.pth\n"
          ],
          "name": "stdout"
        },
        {
          "output_type": "stream",
          "text": [
            "/usr/local/lib/python3.6/dist-packages/torch/serialization.py:292: UserWarning: Couldn't retrieve source code for container of type Net. It won't be checked for correctness upon loading.\n",
            "  \"type \" + obj.__name__ + \". It won't be checked \"\n",
            "/usr/local/lib/python3.6/dist-packages/torch/serialization.py:292: UserWarning: Couldn't retrieve source code for container of type Conv2d. It won't be checked for correctness upon loading.\n",
            "  \"type \" + obj.__name__ + \". It won't be checked \"\n",
            "/usr/local/lib/python3.6/dist-packages/torch/serialization.py:292: UserWarning: Couldn't retrieve source code for container of type MaxPool2d. It won't be checked for correctness upon loading.\n",
            "  \"type \" + obj.__name__ + \". It won't be checked \"\n",
            "/usr/local/lib/python3.6/dist-packages/torch/serialization.py:292: UserWarning: Couldn't retrieve source code for container of type Dropout. It won't be checked for correctness upon loading.\n",
            "  \"type \" + obj.__name__ + \". It won't be checked \"\n",
            "/usr/local/lib/python3.6/dist-packages/torch/serialization.py:292: UserWarning: Couldn't retrieve source code for container of type Linear. It won't be checked for correctness upon loading.\n",
            "  \"type \" + obj.__name__ + \". It won't be checked \"\n"
          ],
          "name": "stderr"
        }
      ]
    }
  ]
}