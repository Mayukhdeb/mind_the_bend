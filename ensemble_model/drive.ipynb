{
 "cells": [
  {
   "cell_type": "markdown",
   "metadata": {},
   "source": [
    "## Importing the goodies "
   ]
  },
  {
   "cell_type": "code",
   "execution_count": 1,
   "metadata": {},
   "outputs": [],
   "source": [
    "import matplotlib.pyplot as plt\n",
    "from IPython.display import clear_output\n",
    "import numpy as np\n",
    "import pyautogui\n",
    "from PIL import Image \n",
    "\n",
    "from Xlib import display\n",
    "import numpy as np\n",
    "import matplotlib.pyplot as plt\n",
    "import time\n",
    "from mss.linux import MSS as mss\n",
    "import mss.tools\n",
    "import cv2\n",
    "import pandas as pd \n",
    "import os\n",
    "\n",
    "import torch\n",
    "import torch.nn as nn \n",
    "import  torchvision.transforms as transforms\n",
    "\n",
    "from torchvision.transforms import ToTensor\n",
    "import torch.nn.functional as F"
   ]
  },
  {
   "cell_type": "code",
   "execution_count": 2,
   "metadata": {},
   "outputs": [],
   "source": [
    "\n",
    "def countdown(sec):\n",
    "    for i in range(sec):\n",
    "        print(sec - i)\n",
    "        time.sleep(1)\n",
    "\n",
    "def find_mouse(x = False , y = False):\n",
    "    \n",
    "    data = display.Display().screen().root.query_pointer()._data\n",
    "    res = [data[\"root_x\"], data[\"root_y\"]]\n",
    "    if x == True and y == True:\n",
    "        return res\n",
    "    elif x == True and y == False:\n",
    "        return res[0]\n",
    "    else:\n",
    "        return res[1]\n",
    "\n",
    "\n",
    "def screen_record_efficient(top = 225, left = 0, width = 800, height = 260, resize_width = 80, resize_height = 25):\n",
    "  \n",
    "    mon = {\"top\": top, \"left\": left, \"width\": width, \"height\": height}\n",
    "    sct = mss.mss()\n",
    "    img = np.array(sct.grab(mon))\n",
    "    img = cv2.resize(img, (resize_width, resize_height))\n",
    "    img = cv2.cvtColor(img, cv2.COLOR_RGBA2RGB)\n",
    "\n",
    "    sct.close()\n",
    "    return img\n",
    "\n",
    "\n",
    "\n",
    "def flex(np_img, name = \"foo\"):\n",
    "    cv2.imshow(name, np_img)\n",
    "    \n",
    "def flex_with_steer(np_img, steer = 0, name = \"foo\"):\n",
    "    cv2.imshow(name, np_img)\n",
    "    \n",
    "    \n",
    "def canny(gray):\n",
    "    im = cv2.Canny(gray,50,500,apertureSize = 3)\n",
    "    return im\n",
    "\n",
    "def fill_voids(img_np):\n",
    "    kernel = np.ones((2,2),np.uint8)\n",
    "    img = cv2.morphologyEx(img_np, cv2.MORPH_CLOSE, kernel, iterations = 1)\n",
    "    return img\n",
    "def move_mouse_co_ord_x(x_val , time = 0.001):\n",
    "    \n",
    "    current_y = find_mouse(y = True)\n",
    "    pyautogui.moveTo(x_val, current_y, duration= time )\n"
   ]
  },
  {
   "cell_type": "code",
   "execution_count": 3,
   "metadata": {},
   "outputs": [
    {
     "data": {
      "text/plain": [
       "<All keys matched successfully>"
      ]
     },
     "execution_count": 3,
     "metadata": {},
     "output_type": "execute_result"
    }
   ],
   "source": [
    "class Net(nn.Module):\n",
    "    def __init__(self):\n",
    "        super(Net, self).__init__()\n",
    "\n",
    "        self.upper_conv1 = nn.Conv2d(1, 16, 3, padding = 1)\n",
    "        self.upper_conv2 = nn.Conv2d(16, 32, 3, padding = 1)\n",
    "        self.upper_conv3 = nn.Conv2d(32, 32, 3, padding = 1)\n",
    "\n",
    "        self.pool = nn.MaxPool2d(3, 3)\n",
    "        \n",
    "        self.upper_fc1 = nn.Linear(256,128)\n",
    "        self.upper_fc2 = nn.Linear(128, 64)\n",
    "\n",
    "################################################################# had to do this \n",
    "\n",
    "        self.lower_conv1 = nn.Conv2d(3, 16, 3, padding = 1)\n",
    "        self.lower_conv2 = nn.Conv2d(16, 32, 3, padding = 1)\n",
    "        self.lower_conv3 = nn.Conv2d(32, 64, 3, padding = 1)\n",
    "        \n",
    "        self.lower_fc1 = nn.Linear(256,128)\n",
    "        self.lower_fc2 = nn.Linear(128, 64)\n",
    "\n",
    "        ## meet and greet at at 64, 64, concat to 128 \n",
    "\n",
    "        self.combined_fc1 = nn.Linear(128, 128)\n",
    "        self.combined_fc2 = nn.Linear(128, 64)\n",
    "        self.combined_fc3 = nn.Linear(64, 1)\n",
    "\n",
    "\n",
    "    def forward(self, x, cuda = False):  ## set cuda to False because no local GPU\n",
    "\n",
    "        (upper, lower)  = x   ## unpack \n",
    "\n",
    "        if cuda == True:\n",
    "            upper = upper.cuda()\n",
    "            lower = lower.cuda()\n",
    "\n",
    "        x_upper = self.pool(F.relu(self.upper_conv1(upper)))\n",
    "        x_upper = self.pool(F.relu(self.upper_conv2(x_upper)))\n",
    "        x_upper = self.pool(F.relu(self.upper_conv3(x_upper)))\n",
    "\n",
    "        x_upper = x_upper.view(x_upper.size(0), -1)\n",
    "        x_upper = F.relu(self.upper_fc1(x_upper))\n",
    "        x_upper = F.relu(self.upper_fc2(x_upper))\n",
    "\n",
    "################################# one more border, please dont mess this part up \n",
    "\n",
    "        x_lower = self.pool(F.relu(self.lower_conv1(lower)))\n",
    "        x_lower = self.pool(F.relu(self.lower_conv2(x_lower)))\n",
    "        x_lower = self.pool(F.relu(self.lower_conv3(x_lower)))\n",
    "\n",
    "        x_lower = x_lower.view(x_lower.size(0), -1)\n",
    "        x_lower = F.relu(self.lower_fc1(x_lower))\n",
    "        x_lower = F.relu(self.lower_fc2(x_lower))\n",
    "    \n",
    "        x = torch.cat((x_upper ,x_lower), dim=1)\n",
    "\n",
    "        x = F.relu(self.combined_fc1(x))\n",
    "        x = F.relu(self.combined_fc2(x))\n",
    "        x = self.combined_fc3(x)\n",
    "\n",
    "\n",
    "        return x\n",
    "\n",
    "drunk_driver = Net()\n",
    "drunk_driver.load_state_dict(torch.load(\"torch/drunk_driver_ensemble_2.pt\", map_location=torch.device('cpu')))"
   ]
  },
  {
   "cell_type": "code",
   "execution_count": 4,
   "metadata": {},
   "outputs": [],
   "source": [
    "transform =  transforms.Compose([          \n",
    "                                transforms.ToPILImage(),\n",
    "                                ToTensor()\n",
    "                                ])"
   ]
  },
  {
   "cell_type": "code",
   "execution_count": 24,
   "metadata": {},
   "outputs": [],
   "source": [
    "\n",
    "\n",
    "def running_in_the_90s(flex_mode = False, segment_road = True):\n",
    "    \n",
    "    print (\"running...\")\n",
    "    print (\"drag mouse to the corner of the screen to terminate -\")\n",
    "    \n",
    "    while True:\n",
    "        \n",
    "        \n",
    "        upper_raw = screen_record_efficient(top = 225 + 200 + 45,   ## main + lower + remove sky\n",
    "                                      width = 800, \n",
    "                                      height = 142, \n",
    "                                      resize_width = 128, \n",
    "                                      resize_height = 64)  ## FPV TRACK VIEW  \n",
    "    \n",
    "        \n",
    "        lower_raw = screen_record_efficient(top = 225 ,   ## main + lower + remove sky\n",
    "                                              width = 800, \n",
    "                                              height = 142, \n",
    "                                              resize_width = 64, \n",
    "                                              resize_height = 64)  ## FPV TRACK VIEW  \n",
    "        \n",
    "         \n",
    "        mouse =find_mouse(x = True)\n",
    "        steer = 400 - mouse\n",
    "        \n",
    "        if cv2.waitKey(1) & 0xFF == ord('q'):\n",
    "            cv2.destroyAllWindows()\n",
    "            break\n",
    "\n",
    "        if segment_road == True:\n",
    "            upper_seg = canny(upper_raw)\n",
    "\n",
    "        if flex_mode == True:\n",
    "            flex(upper_seg , name = \"upper\")\n",
    "            flex(lower_raw, name = \"lower\")\n",
    "            \n",
    "        (upper , lower)  = (transform(upper_seg).unsqueeze(0), transform(lower_raw).unsqueeze(0))\n",
    "        \n",
    "        pred = int(drunk_driver((upper,lower)).detach().item())\n",
    "        steer = 400 - pred \n",
    "        \n",
    "        try:\n",
    "            move_mouse_co_ord_x(x_val = steer , time = 0.001)\n",
    "        except:\n",
    "#             cv2.destroyAllWindows()\n",
    "            print(\"stopped\")\n",
    "            break\n",
    "            \n"
   ]
  },
  {
   "cell_type": "code",
   "execution_count": 25,
   "metadata": {
    "scrolled": false
   },
   "outputs": [
    {
     "name": "stdout",
     "output_type": "stream",
     "text": [
      "2\n",
      "1\n",
      "running...\n",
      "drag mouse to the corner of the screen to terminate -\n",
      "stopped\n"
     ]
    }
   ],
   "source": [
    "countdown(2)\n",
    "running_in_the_90s(flex_mode = True, segment_road = True)  "
   ]
  },
  {
   "cell_type": "code",
   "execution_count": 26,
   "metadata": {},
   "outputs": [],
   "source": [
    "cv2.destroyAllWindows()\n"
   ]
  },
  {
   "cell_type": "code",
   "execution_count": null,
   "metadata": {},
   "outputs": [],
   "source": []
  }
 ],
 "metadata": {
  "kernelspec": {
   "display_name": "Python 3",
   "language": "python",
   "name": "python3"
  },
  "language_info": {
   "codemirror_mode": {
    "name": "ipython",
    "version": 3
   },
   "file_extension": ".py",
   "mimetype": "text/x-python",
   "name": "python",
   "nbconvert_exporter": "python",
   "pygments_lexer": "ipython3",
   "version": "3.7.3"
  }
 },
 "nbformat": 4,
 "nbformat_minor": 2
}
