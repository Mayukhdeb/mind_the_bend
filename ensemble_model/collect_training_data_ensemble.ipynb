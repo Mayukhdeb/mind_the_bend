{
 "cells": [
  {
   "cell_type": "markdown",
   "metadata": {},
   "source": [
    "## Importing the goodies "
   ]
  },
  {
   "cell_type": "code",
   "execution_count": 1,
   "metadata": {},
   "outputs": [],
   "source": [
    "import matplotlib.pyplot as plt\n",
    "from IPython.display import clear_output\n",
    "import numpy as np\n",
    "import pyautogui\n",
    "from PIL import Image \n",
    "from Xlib import display\n",
    "import numpy as np\n",
    "import matplotlib.pyplot as plt\n",
    "import time\n",
    "from mss.linux import MSS as mss\n",
    "import mss.tools\n",
    "import cv2\n",
    "import pandas as pd \n",
    "import os"
   ]
  },
  {
   "cell_type": "code",
   "execution_count": 2,
   "metadata": {},
   "outputs": [],
   "source": [
    "\n",
    "def countdown(sec):\n",
    "    for i in range(sec):\n",
    "        print(sec - i)\n",
    "        time.sleep(1)\n",
    "\n",
    "def find_mouse(x = False , y = False):\n",
    "    \n",
    "    data = display.Display().screen().root.query_pointer()._data\n",
    "    res = [data[\"root_x\"], data[\"root_y\"]]\n",
    "    if x == True and y == True:\n",
    "        return res\n",
    "    elif x == True and y == False:\n",
    "        return res[0]\n",
    "    else:\n",
    "        return res[1]\n",
    "\n",
    "\n",
    "def screen_record_efficient(top = 225, left = 0, width = 800, height = 260, resize_width = 80, resize_height = 25):\n",
    "  \n",
    "    mon = {\"top\": top, \"left\": left, \"width\": width, \"height\": height}\n",
    "    sct = mss.mss()\n",
    "    img = np.array(sct.grab(mon))\n",
    "    img = cv2.resize(img, (resize_width, resize_height))\n",
    "    img = cv2.cvtColor(img, cv2.COLOR_RGBA2RGB)\n",
    "\n",
    "    sct.close()\n",
    "    return img\n",
    "\n",
    "\n",
    "\n",
    "def flex(np_img, name = \"foo\"):\n",
    "    cv2.imshow(name, np_img)\n",
    "    \n",
    "    \n",
    "def canny(gray):\n",
    "    im = cv2.Canny(gray,50,500,apertureSize = 3)\n",
    "    return im\n",
    "\n",
    "def fill_voids(img_np):\n",
    "    kernel = np.ones((2,2),np.uint8)\n",
    "    img = cv2.morphologyEx(img_np, cv2.MORPH_CLOSE, kernel, iterations = 1)\n",
    "    return img\n",
    "\n",
    "\n",
    "    \n",
    "def segment_road_on_np(image, lower_gray = [0, 0, 1], higher_gray = [179, 50, 100]):\n",
    "    img = (image).astype(np.uint8)\n",
    "    hsv = cv2.cvtColor(img, cv2.COLOR_BGR2HSV)\n",
    "    lower_gray = np.array(lower_gray, np.uint8)\n",
    "    upper_gray = np.array(higher_gray, np.uint8)\n",
    "    mask_gray = cv2.inRange(hsv, lower_gray, upper_gray)\n",
    "    img_res = cv2.bitwise_and(img, img, mask = mask_gray)\n",
    "    return mask_gray\n",
    "\n"
   ]
  },
  {
   "cell_type": "code",
   "execution_count": 6,
   "metadata": {},
   "outputs": [],
   "source": [
    "\n",
    "\n",
    "def collect_ensemble_data(flex_mode = False, segment_road = True, main_folder = \"ensemble_frames\"):\n",
    "    print (\"running...\")\n",
    "    print (\"drag mouse to the corner of the screen to terminate -\")\n",
    "    \n",
    "    instances = []\n",
    "    while True:\n",
    "        \n",
    "        \n",
    "        upper_raw = screen_record_efficient(top = 225 + 200 + 45,   ## main + lower + remove sky\n",
    "                                      width = 800, \n",
    "                                      height = 142, \n",
    "                                      resize_width = 128, \n",
    "                                      resize_height = 64)  ## FPV TRACK VIEW  \n",
    "    \n",
    "        \n",
    "        lower_raw = screen_record_efficient(top = 225 ,   ## main + lower + remove sky\n",
    "                                              width = 800, \n",
    "                                              height = 142, \n",
    "                                              resize_width = 64, \n",
    "                                              resize_height = 64)  ## FPV TRACK VIEW  \n",
    "        \n",
    "         \n",
    "        mouse =find_mouse(x = True)\n",
    "        steer = 400 - mouse\n",
    "        \n",
    "        \n",
    "        if cv2.waitKey(1) & 0xFF == ord('q'):\n",
    "            cv2.destroyAllWindows()\n",
    "            break\n",
    "\n",
    "        if segment_road == True:\n",
    "            upper_seg = canny(upper_raw)\n",
    "\n",
    "\n",
    "        if flex_mode == True:\n",
    "            flex(upper_seg , name = \"upper\")\n",
    "            flex(lower_raw, name = \"lower\")\n",
    "\n",
    "\n",
    "        time_val = str(int(time.time()*100))[2:]\n",
    "        name_upper = \"upper_\" + str(steer)+\"_\" + time_val + \".jpg\"\n",
    "        name_lower = \"lower_\" + str(steer)+\"_\" + time_val + \".jpg\"\n",
    "\n",
    "\n",
    "        save_name_upper = main_folder + \"/\" + \"upper/\" + name_upper\n",
    "        save_name_lower = main_folder + \"/\" + \"lower/\" + name_lower\n",
    "        \n",
    "        cv2.imwrite(save_name_upper, upper_seg)\n",
    "        cv2.imwrite(save_name_lower, lower_raw)\n",
    "        \n",
    "        instances.append([save_name_upper, save_name_lower, steer])\n",
    "    return instances[:-10]"
   ]
  },
  {
   "cell_type": "code",
   "execution_count": 7,
   "metadata": {
    "scrolled": false
   },
   "outputs": [
    {
     "name": "stdout",
     "output_type": "stream",
     "text": [
      "10\n",
      "9\n",
      "8\n",
      "7\n",
      "6\n",
      "5\n",
      "4\n",
      "3\n",
      "2\n",
      "1\n",
      "running...\n",
      "drag mouse to the corner of the screen to terminate -\n"
     ]
    }
   ],
   "source": [
    "countdown(10)\n",
    "instances = collect_ensemble_data(flex_mode = True, segment_road = True)  "
   ]
  },
  {
   "cell_type": "code",
   "execution_count": 42,
   "metadata": {
    "scrolled": true
   },
   "outputs": [
    {
     "name": "stdout",
     "output_type": "stream",
     "text": [
      "(23327,)\n"
     ]
    }
   ],
   "source": [
    "ups = np.sort(np.array([\"ensemble_frames/upper/\" + i for i in os.listdir(\"ensemble_frames/upper\")]))\n",
    "lows = np.sort(np.array([\"ensemble_frames/lower/\" + i for i in os.listdir(\"ensemble_frames/lower\")]))\n",
    "\n",
    "steers = []\n",
    "\n",
    "for up in ups:\n",
    "    slc = up[28:]\n",
    "    c = 0\n",
    "    for i in slc:\n",
    "        c+= 1\n",
    "        if i == \"_\":\n",
    "            break\n",
    "    fin = int(slc[:c-1])\n",
    "    steers.append(fin)\n",
    "\n",
    "print(ups.shape)"
   ]
  },
  {
   "cell_type": "code",
   "execution_count": 43,
   "metadata": {},
   "outputs": [
    {
     "data": {
      "text/plain": [
       "23327"
      ]
     },
     "execution_count": 43,
     "metadata": {},
     "output_type": "execute_result"
    }
   ],
   "source": [
    "len(steers)"
   ]
  },
  {
   "cell_type": "code",
   "execution_count": 45,
   "metadata": {},
   "outputs": [],
   "source": [
    "df = pd.DataFrame(list(zip(ups, lows, steers)), columns = [\"upper\", \"lower\", \"steer\"])"
   ]
  },
  {
   "cell_type": "code",
   "execution_count": 46,
   "metadata": {},
   "outputs": [
    {
     "name": "stdout",
     "output_type": "stream",
     "text": [
      "<class 'pandas.core.frame.DataFrame'>\n",
      "RangeIndex: 23327 entries, 0 to 23326\n",
      "Data columns (total 3 columns):\n",
      "upper    23327 non-null object\n",
      "lower    23327 non-null object\n",
      "steer    23327 non-null int64\n",
      "dtypes: int64(1), object(2)\n",
      "memory usage: 546.8+ KB\n"
     ]
    }
   ],
   "source": [
    "df.info()"
   ]
  },
  {
   "cell_type": "code",
   "execution_count": 48,
   "metadata": {},
   "outputs": [],
   "source": [
    "df.to_csv(\"data/training_data.csv\")"
   ]
  }
 ],
 "metadata": {
  "kernelspec": {
   "display_name": "Python 3",
   "language": "python",
   "name": "python3"
  },
  "language_info": {
   "codemirror_mode": {
    "name": "ipython",
    "version": 3
   },
   "file_extension": ".py",
   "mimetype": "text/x-python",
   "name": "python",
   "nbconvert_exporter": "python",
   "pygments_lexer": "ipython3",
   "version": "3.7.3"
  }
 },
 "nbformat": 4,
 "nbformat_minor": 2
}
