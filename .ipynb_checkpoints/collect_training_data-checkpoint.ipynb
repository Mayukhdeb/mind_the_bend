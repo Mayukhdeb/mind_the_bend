{
 "cells": [
  {
   "cell_type": "markdown",
   "metadata": {},
   "source": [
    "## Importing the necessary stuff"
   ]
  },
  {
   "cell_type": "code",
   "execution_count": null,
   "metadata": {},
   "outputs": [],
   "source": [
    "import pyautogui\n",
    "from PIL import Image \n",
    "import time\n",
    "from IPython.display import clear_output\n",
    "import time \n",
    "import numpy as np\n",
    "import matplotlib.pyplot as plt\n",
    "from mss.linux import MSS as mss\n",
    "import mss.tools\n",
    "import cv2\n",
    "from Xlib import display\n",
    "from random import randint\n",
    "\n",
    "## left_up = 0,225            ## right_up = 800, 225\n",
    "\n",
    "## left_down = 0,560        ## right_down = 800, 560"
   ]
  },
  {
   "cell_type": "markdown",
   "metadata": {},
   "source": [
    "## Capturing a screenshot and other utilities like finding the mouse position\n",
    "* in `capture_resize_to_pil()`, co_ord argument takes in a tuple of the vertices, feel free to change them based on which part of the screen you want to capture\n",
    "* we need to find the mouse position as well because the steering of the car is controlled by the mouse \n",
    "* `screen_cap()` is used later on because its the fastest option to capture screenshots"
   ]
  },
  {
   "cell_type": "code",
   "execution_count": null,
   "metadata": {},
   "outputs": [],
   "source": [
    "\n",
    "def capture_resize_to_pil(co_ord, size = (100,100)):\n",
    "    im = pyautogui.screenshot(region = co_ord ).resize((size), Image.ANTIALIAS)\n",
    "    return im\n",
    "\n",
    "def save_pil_img(img, filename):\n",
    "    img.save(filename\n",
    "             \n",
    "def screen_cap(top = 0, left = 0, width = 800, height = 560):\n",
    "    # 800x560 windowed mode\n",
    "    mon = {\"top\": top, \"left\": left, \"width\": width, \"height\": height}\n",
    "    sct = mss.mss()\n",
    "    \n",
    "    img = np.array(sct.grab(mon))\n",
    "    img = cv2.resize(img, (80,25))\n",
    "    img = cv2.cvtColor(img, cv2.COLOR_BGRA2RGB)\n",
    "    sct.close()\n",
    "    return img\n",
    "             \n",
    "             \n",
    "def find_mouse(x = False , y = False):\n",
    "    \n",
    "    data = display.Display().screen().root.query_pointer()._data\n",
    "    res = [data[\"root_x\"], data[\"root_y\"]]\n",
    "    \n",
    "    if x == True and y == True:\n",
    "        return res\n",
    "    elif x == True and y == False:\n",
    "        return res[0]\n",
    "    else:\n",
    "        return res[1]    "
   ]
  },
  {
   "cell_type": "markdown",
   "metadata": {},
   "source": [
    "## Defining functions to capture \"one instance\" of the training data\n",
    "* for each instance, a screenshot is captured on the given vertices and the x-co-ordinate of the mouse is also captured\n",
    "* The mouse's x-co-ordinate is actually the label, so it is stored with the image as the filename  of the image in `collect_instance_new()`\n",
    "> *what about repeating filenames due to repeating steering values while driving ?*\n",
    "> * Thats taken care of by inserting a random number between 0 to 1000 after the steering value seperated by an underscore, thus reducing the probability of repeating filenames by a factor of 1000"
   ]
  },
  {
   "cell_type": "code",
   "execution_count": null,
   "metadata": {},
   "outputs": [],
   "source": [
    "\n",
    "def collect_one_instance(fname_id, foldername):\n",
    "    foo = capture_resize_to_pil((0,90,800,560), size = (80,56))   ## template inp\n",
    "    mouse_x = find_mouse(x = True)\n",
    "    fmt_name =    foldername + \"/\"  +str(mouse_x) + \"_nu_\" +  str(fname_id) +\".png\"\n",
    "    save_pil_img(foo, fmt_name)\n",
    "    print (fmt_name)\n",
    "    \n",
    "def collect_instance_new(fname_id, foldername):\n",
    "    foo = screen_cap(top = 225,width = 800, height = 260)  ## FPV TRACK VIEW \n",
    "    mouse_x = find_mouse(x = True)\n",
    "    fmt_name =    foldername + \"/\"  +str(mouse_x) + \"_FPV_seed_\"+ str(randint(0,1000))+ \"__\" +  str(fname_id) +\".png\"\n",
    "    im = Image.fromarray(foo)\n",
    "    im.save(fmt_name)\n",
    "    \n",
    "    del im\n",
    "    print (fmt_name)\n",
    "    \n",
    "def countdown(sec):\n",
    "    for i in range(sec, -1, -1):\n",
    "        print(i)\n",
    "        time.sleep(1)\n"
   ]
  },
  {
   "cell_type": "markdown",
   "metadata": {},
   "source": [
    "## Data collection loop \n",
    "* the frames argument decides how many frames to collect\n",
    "* also working on a simple algorithm to collect a balanced number of frames to reduce the time taken for balancing later on"
   ]
  },
  {
   "cell_type": "code",
   "execution_count": 1,
   "metadata": {},
   "outputs": [],
   "source": [
    "\n",
    "def collect_train_data(frames):\n",
    "    print (\" here we go bois -- \")\n",
    "    countdown(5)\n",
    "    for i in range(1, frames+1):\n",
    "        collect_instance_new(i, \"ss\")\n",
    "        time.sleep(0.2)\n",
    "        \n",
    "        if i % 100 == 0:\n",
    "            countdown(2)\n",
    "            clear_output()\n",
    " \n",
    "    clear_output()\n",
    "            \n",
    "    print(\"collection complete --\")"
   ]
  },
  {
   "cell_type": "code",
   "execution_count": null,
   "metadata": {},
   "outputs": [],
   "source": [
    "collect_train_data(10000)"
   ]
  }
 ],
 "metadata": {
  "kernelspec": {
   "display_name": "Python 3",
   "language": "python",
   "name": "python3"
  },
  "language_info": {
   "codemirror_mode": {
    "name": "ipython",
    "version": 3
   },
   "file_extension": ".py",
   "mimetype": "text/x-python",
   "name": "python",
   "nbconvert_exporter": "python",
   "pygments_lexer": "ipython3",
   "version": "3.7.3"
  }
 },
 "nbformat": 4,
 "nbformat_minor": 2
}
