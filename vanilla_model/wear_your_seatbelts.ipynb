{
 "cells": [
  {
   "cell_type": "markdown",
   "metadata": {},
   "source": [
    "## Importing the goodies "
   ]
  },
  {
   "cell_type": "code",
   "execution_count": 1,
   "metadata": {},
   "outputs": [],
   "source": [
    "import torch\n",
    "import torchvision\n",
    "import torch.nn as nn                                              \n",
    "import torch.nn.functional as F\n",
    "import torch.optim as optim\n",
    "torch.set_printoptions(linewidth = 120)\n",
    "torch.set_grad_enabled(True)\n",
    "import torchvision\n",
    "import matplotlib.pyplot as plt\n",
    "from IPython.display import clear_output\n",
    "import numpy as np\n",
    "import pyautogui\n",
    "from PIL import Image \n",
    "from Xlib import display\n",
    "import numpy as np\n",
    "import matplotlib.pyplot as plt\n",
    "import time\n",
    "from mss.linux import MSS as mss\n",
    "import mss.tools\n",
    "import cv2\n",
    "import torchvision.transforms as transforms"
   ]
  },
  {
   "cell_type": "markdown",
   "metadata": {},
   "source": [
    "## Defining the nn layers and loading up the trained model"
   ]
  },
  {
   "cell_type": "code",
   "execution_count": 42,
   "metadata": {},
   "outputs": [
    {
     "name": "stdout",
     "output_type": "stream",
     "text": [
      "Net(\n",
      "  (conv1): Conv2d(1, 16, kernel_size=(3, 3), stride=(1, 1), padding=(1, 1))\n",
      "  (pool): MaxPool2d(kernel_size=3, stride=3, padding=0, dilation=1, ceil_mode=False)\n",
      "  (dropout): Dropout(p=0.5, inplace=False)\n",
      "  (conv2): Conv2d(16, 32, kernel_size=(3, 3), stride=(1, 1), padding=(1, 1))\n",
      "  (fc1): Linear(in_features=512, out_features=256, bias=True)\n",
      "  (fc2): Linear(in_features=256, out_features=128, bias=True)\n",
      "  (fc3): Linear(in_features=128, out_features=64, bias=True)\n",
      "  (fc4): Linear(in_features=64, out_features=1, bias=True)\n",
      ")\n"
     ]
    },
    {
     "data": {
      "text/plain": [
       "<All keys matched successfully>"
      ]
     },
     "execution_count": 42,
     "metadata": {},
     "output_type": "execute_result"
    }
   ],
   "source": [
    "\n",
    "\n",
    "class Net(nn.Module):\n",
    "    def __init__(self):\n",
    "        super(Net, self).__init__()\n",
    "        self.conv1 = nn.Conv2d(1, 16, 3, padding = 1)\n",
    "        self.pool = nn.MaxPool2d(3, 3)\n",
    "        \n",
    "        self.dropout = nn.Dropout(p=0.5)\n",
    "        self.conv2 = nn.Conv2d(16, 32 , 3, padding = 1)\n",
    "        # self.conv3 = nn.Conv2d(64, 64 , 3, padding = 1)\n",
    "\n",
    "        \n",
    "        self.fc1 = nn.Linear(512,256)\n",
    "        self.fc2 = nn.Linear(256, 128)\n",
    "        self.fc3 = nn.Linear(128, 64)\n",
    "\n",
    "        self.fc4 = nn.Linear(64, 1)\n",
    "\n",
    "    def forward(self, x):\n",
    "        x = (self.pool(F.relu(self.conv1(x))))\n",
    "        x = self.pool(F.relu(self.conv2(x)))\n",
    "        # x = self.pool(F.relu(self.conv3(x)))\n",
    "\n",
    "\n",
    "        x = x.view(x.size(0), -1)\n",
    "        x = F.relu(self.fc1(x))\n",
    "        x = F.relu(self.fc2(x))\n",
    "        x =F.relu(self.fc3(x))\n",
    "\n",
    "        x = self.fc4(x)\n",
    "\n",
    "        return x\n",
    "\n",
    "drunk_driver = Net()\n",
    "print(drunk_driver)\n",
    "\n",
    "drunk_driver.load_state_dict(torch.load(\"torch/drunk_driver.pt\", map_location=torch.device('cpu')))"
   ]
  },
  {
   "cell_type": "markdown",
   "metadata": {},
   "source": [
    "## Defining some utilities "
   ]
  },
  {
   "cell_type": "code",
   "execution_count": 39,
   "metadata": {},
   "outputs": [],
   "source": [
    "\n",
    "def find_mouse(x = False , y = False):\n",
    "    \n",
    "    data = display.Display().screen().root.query_pointer()._data\n",
    "    res = [data[\"root_x\"], data[\"root_y\"]]\n",
    "    if x == True and y == True:\n",
    "        return res\n",
    "    elif x == True and y == False:\n",
    "        return res[0]\n",
    "    else:\n",
    "        return res[1]\n",
    "\n",
    "def move_mouse_co_ord_x(x_val , time = 0.001):\n",
    "    \n",
    "    current_y = find_mouse(y = True)\n",
    "    pyautogui.moveTo(x_val, current_y, duration= time )\n",
    "    \n",
    "\n",
    "def screen_record_efficient(top = 225, left = 0, width = 800, height = 260, resize_width = 80, resize_height = 25):\n",
    "  \n",
    "    mon = {\"top\": top, \"left\": left, \"width\": width, \"height\": height}\n",
    "    sct = mss.mss()\n",
    "    img = np.array(sct.grab(mon))\n",
    "    img = cv2.resize(img, (80,25))\n",
    "    img = cv2.cvtColor(img, cv2.COLOR_BGRA2RGB)\n",
    "    sct.close()\n",
    "    return img\n",
    "\n",
    "loader = transforms.Compose([transforms.ToTensor()])\n",
    "\n",
    "def numpy_to_tensor(np_arr):\n",
    "    image = loader(np_arr).float().unsqueeze(0)\n",
    "    return image\n",
    "\n",
    "def flex(np_img, turn, window_name = \"foo\"):\n",
    "\n",
    "    np_img = cv2.cvtColor(np_img, cv2.COLOR_BGR2RGB)\n",
    "    np_img = cv2.resize(np_img, (500, 150))\n",
    "    x_line = int(250 - (turn))\n",
    "    np_img = cv2.line(np_img, (250, 149),(x_line, 0), color = (0, 255,0), thickness= 10) \n",
    "    cv2.imshow(window_name, np_img) \n",
    "    \n",
    "\n",
    "def canny(gray):\n",
    "    im = cv2.Canny(gray,50,150,apertureSize = 3)\n",
    "    return im\n",
    "    \n",
    "def segment_road_on_np(image, lower_gray = [0, 0, 1], higher_gray = [179, 50, 200]):  ## obsolete, delete this \n",
    "    img = (image).astype(np.uint8)\n",
    "    hsv = cv2.cvtColor(img, cv2.COLOR_BGR2HSV)\n",
    "    lower_gray = np.array(lower_gray, np.uint8)\n",
    "    upper_gray = np.array(higher_gray, np.uint8)\n",
    "    mask_gray = cv2.inRange(hsv, lower_gray, upper_gray)\n",
    "    img_res = cv2.bitwise_and(img, img, mask = mask_gray)\n",
    "    return img_res\n",
    "\n"
   ]
  },
  {
   "cell_type": "markdown",
   "metadata": {},
   "source": [
    "## And it all comes together here\n",
    "> * Feel free to change the vertices in `screen_record_efficient()` depending on where you place the game window on the screen\n",
    "*  Drag mouse to the corner of the screen to quit"
   ]
  },
  {
   "cell_type": "code",
   "execution_count": 58,
   "metadata": {},
   "outputs": [],
   "source": [
    "\n",
    "## top = 370,width = 800, height = 110, resize_width = 80, resize_height = 25\n",
    "\n",
    "def not_so_drunk_driver(flex_mode = False, segment_road = True):\n",
    "    \n",
    "    print (\"running...\")\n",
    "    print (\"drag mouse to the corner of the screen to terminate -\")\n",
    "    while True:\n",
    "        try:\n",
    "            foo = screen_record_efficient(top = 225,width = 800, height = 142, resize_width = 80, resize_height = 25)  ## FPV TRACK VIEW  \n",
    "\n",
    "            if cv2.waitKey(1) & 0xFF == ord('q'):\n",
    "                cv2.destroyAllWindows()\n",
    "                break\n",
    "\n",
    "            if segment_road == True:\n",
    "                foo =  cv2.blur(canny(foo), (3,3))\n",
    "\n",
    "\n",
    "\n",
    "            foo_tensor = numpy_to_tensor(foo)\n",
    "            steer = int(drunk_driver(foo_tensor).item())\n",
    "\n",
    "            if flex_mode == True:\n",
    "\n",
    "                flex( foo, turn = steer, window_name = \"segmented\")\n",
    "    #                 flex( foo, turn = steer, window_name = \"raw\")\n",
    "\n",
    "            x_co = 400 - steer*1.2\n",
    "\n",
    "            move_mouse_co_ord_x(x_co , time = 0)\n",
    "        except: \n",
    "\n",
    "            print(\"end ----\")\n",
    "            break"
   ]
  },
  {
   "cell_type": "code",
   "execution_count": 59,
   "metadata": {
    "scrolled": false
   },
   "outputs": [
    {
     "name": "stdout",
     "output_type": "stream",
     "text": [
      "running...\n",
      "drag mouse to the corner of the screen to terminate -\n",
      "end ----\n"
     ]
    }
   ],
   "source": [
    "not_so_drunk_driver(flex_mode = True, segment_road = True)  \n"
   ]
  },
  {
   "cell_type": "code",
   "execution_count": 24,
   "metadata": {},
   "outputs": [],
   "source": [
    "cv2.destroyAllWindows()\n"
   ]
  }
 ],
 "metadata": {
  "kernelspec": {
   "display_name": "Python 3",
   "language": "python",
   "name": "python3"
  },
  "language_info": {
   "codemirror_mode": {
    "name": "ipython",
    "version": 3
   },
   "file_extension": ".py",
   "mimetype": "text/x-python",
   "name": "python",
   "nbconvert_exporter": "python",
   "pygments_lexer": "ipython3",
   "version": "3.7.3"
  }
 },
 "nbformat": 4,
 "nbformat_minor": 2
}
